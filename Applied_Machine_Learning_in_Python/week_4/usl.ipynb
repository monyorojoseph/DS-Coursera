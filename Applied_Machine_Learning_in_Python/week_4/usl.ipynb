{
 "cells": [
  {
   "cell_type": "markdown",
   "id": "e1db87cb-7ff2-4f14-949e-a51deab8444c",
   "metadata": {},
   "source": [
    "### Applied Machine Learning: Unsupervised Learning"
   ]
  },
  {
   "cell_type": "markdown",
   "id": "534477c6-f8ee-40fb-8389-b2684df332d2",
   "metadata": {},
   "source": [
    "#### Preamble and Datasets"
   ]
  },
  {
   "cell_type": "code",
   "execution_count": 2,
   "id": "27228e75-d27c-434c-8963-0594457966b3",
   "metadata": {
    "tags": []
   },
   "outputs": [],
   "source": [
    "%matplotlib inline\n",
    "import numpy as np\n",
    "import pandas as pd\n",
    "import seaborn as sn\n",
    "import matplotlib.pyplot as plt\n",
    "from sklearn.datasets import load_breast_cancer\n",
    "\n",
    "# Breast cancer dataset\n",
    "cancer = load_breast_cancer()\n",
    "(X_cancer, y_cancer) = load_breast_cancer(return_X_y = True)\n",
    "\n",
    "# Our sample fruits dataset\n",
    "fruits = pd.read_table('data/fruit_data_with_colors.txt')\n",
    "X_fruits = fruits[['mass','width','height', 'color_score']]\n",
    "y_fruits = fruits[['fruit_label']] - 1"
   ]
  },
  {
   "cell_type": "code",
   "execution_count": null,
   "id": "1cbd7973-c593-436d-b03c-109cfb672977",
   "metadata": {},
   "outputs": [],
   "source": []
  }
 ],
 "metadata": {
  "kernelspec": {
   "display_name": "Python 3 (ipykernel)",
   "language": "python",
   "name": "python3"
  },
  "language_info": {
   "codemirror_mode": {
    "name": "ipython",
    "version": 3
   },
   "file_extension": ".py",
   "mimetype": "text/x-python",
   "name": "python",
   "nbconvert_exporter": "python",
   "pygments_lexer": "ipython3",
   "version": "3.11.2"
  }
 },
 "nbformat": 4,
 "nbformat_minor": 5
}
