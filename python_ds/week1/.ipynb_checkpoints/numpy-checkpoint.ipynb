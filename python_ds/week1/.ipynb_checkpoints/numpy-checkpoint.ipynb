{
 "cells": [
  {
   "cell_type": "code",
   "execution_count": 1,
   "id": "8a998ee9-e60f-4f1a-b5d5-4863e5a31456",
   "metadata": {
    "tags": []
   },
   "outputs": [],
   "source": [
    "import numpy as np\n",
    "import math"
   ]
  },
  {
   "cell_type": "markdown",
   "id": "a2157e74-f189-439a-be74-51ae7fb82ba9",
   "metadata": {},
   "source": [
    "### Array Creation"
   ]
  },
  {
   "cell_type": "code",
   "execution_count": 2,
   "id": "5115281e-d994-418a-85eb-c360ee680348",
   "metadata": {
    "tags": []
   },
   "outputs": [
    {
     "name": "stdout",
     "output_type": "stream",
     "text": [
      "[1 4 5 6]\n",
      "1\n"
     ]
    }
   ],
   "source": [
    "a = np.array([1, 4, 5, 6])\n",
    "print(a)\n",
    "# prints number of dimensions\n",
    "print(a.ndim)"
   ]
  },
  {
   "cell_type": "code",
   "execution_count": 5,
   "id": "07e60a4c-da1d-47c8-b170-dcd5a242f4de",
   "metadata": {
    "tags": []
   },
   "outputs": [
    {
     "name": "stdout",
     "output_type": "stream",
     "text": [
      "[[34 45 67 89]\n",
      " [45  5  6  5]]\n",
      "2\n"
     ]
    }
   ],
   "source": [
    "# a list of list creates a mutlidimension\n",
    "b = np.array([[34, 45, 67, 89], [45, 5, 6, 5]])\n",
    "print(b)\n",
    "# dimensions\n",
    "print(b.ndim)"
   ]
  },
  {
   "cell_type": "code",
   "execution_count": 6,
   "id": "5dc5227f-0999-4cff-93f8-c35844eea38f",
   "metadata": {
    "tags": []
   },
   "outputs": [
    {
     "data": {
      "text/plain": [
       "(2, 4)"
      ]
     },
     "execution_count": 6,
     "metadata": {},
     "output_type": "execute_result"
    }
   ],
   "source": [
    "b.shape"
   ]
  },
  {
   "cell_type": "code",
   "execution_count": 9,
   "id": "4d1a16a7-d993-48dd-98c7-7d1621cdb2f4",
   "metadata": {
    "tags": []
   },
   "outputs": [
    {
     "data": {
      "text/plain": [
       "'int64'"
      ]
     },
     "execution_count": 9,
     "metadata": {},
     "output_type": "execute_result"
    }
   ],
   "source": [
    "a.dtype.name"
   ]
  },
  {
   "cell_type": "code",
   "execution_count": 8,
   "id": "ed8fdc0b-ae32-4c3c-a048-6d9216799e96",
   "metadata": {
    "tags": []
   },
   "outputs": [
    {
     "data": {
      "text/plain": [
       "dtype('int64')"
      ]
     },
     "execution_count": 8,
     "metadata": {},
     "output_type": "execute_result"
    }
   ],
   "source": [
    "b.dtype"
   ]
  },
  {
   "cell_type": "code",
   "execution_count": 10,
   "id": "da648c17-fbc2-4c5d-b132-2fc65084d872",
   "metadata": {
    "tags": []
   },
   "outputs": [
    {
     "data": {
      "text/plain": [
       "'float64'"
      ]
     },
     "execution_count": 10,
     "metadata": {},
     "output_type": "execute_result"
    }
   ],
   "source": [
    "c = np.array([2.9, 5.4, 6.2, 0.4])\n",
    "c.dtype.name"
   ]
  },
  {
   "cell_type": "code",
   "execution_count": 11,
   "id": "07aa96c0-6004-4b4b-891a-ec1d64e00c9b",
   "metadata": {
    "tags": []
   },
   "outputs": [
    {
     "data": {
      "text/plain": [
       "array([2.9, 5.4, 6.2, 0.4])"
      ]
     },
     "execution_count": 11,
     "metadata": {},
     "output_type": "execute_result"
    }
   ],
   "source": [
    "c"
   ]
  },
  {
   "cell_type": "code",
   "execution_count": 13,
   "id": "70abd3d3-1f72-43c5-9978-a9da3f1621b6",
   "metadata": {
    "tags": []
   },
   "outputs": [
    {
     "name": "stdout",
     "output_type": "stream",
     "text": [
      "[[0. 0. 0.]\n",
      " [0. 0. 0.]]\n",
      "[[1. 1. 1.]\n",
      " [1. 1. 1.]]\n"
     ]
    }
   ],
   "source": [
    "# array with filler values\n",
    "d = np.zeros((2, 3))\n",
    "print(d)\n",
    "e = np.ones((2, 3))\n",
    "print(e)"
   ]
  },
  {
   "cell_type": "code",
   "execution_count": 14,
   "id": "630a4012-ecd2-471f-b752-8d941014ccd1",
   "metadata": {
    "tags": []
   },
   "outputs": [
    {
     "data": {
      "text/plain": [
       "array([[0.65391642, 0.71583041, 0.21592006],\n",
       "       [0.36348752, 0.97610521, 0.72333974]])"
      ]
     },
     "execution_count": 14,
     "metadata": {},
     "output_type": "execute_result"
    }
   ],
   "source": [
    "# generate an array with random numbers\n",
    "np.random.rand(2,3)"
   ]
  },
  {
   "cell_type": "code",
   "execution_count": 15,
   "id": "842d445f-49b5-433d-ba97-df8cd503ec6b",
   "metadata": {
    "tags": []
   },
   "outputs": [
    {
     "data": {
      "text/plain": [
       "array([10, 12, 14, 16, 18, 20, 22, 24, 26, 28, 30, 32, 34, 36, 38, 40, 42,\n",
       "       44, 46, 48])"
      ]
     },
     "execution_count": 15,
     "metadata": {},
     "output_type": "execute_result"
    }
   ],
   "source": [
    "f = np.arange(10, 50, 2)\n",
    "f"
   ]
  },
  {
   "cell_type": "code",
   "execution_count": 16,
   "id": "69b1ff06-ded7-4f0b-a3c0-43cf58544b80",
   "metadata": {
    "tags": []
   },
   "outputs": [
    {
     "data": {
      "text/plain": [
       "array([0.        , 0.14285714, 0.28571429, 0.42857143, 0.57142857,\n",
       "       0.71428571, 0.85714286, 1.        , 1.14285714, 1.28571429,\n",
       "       1.42857143, 1.57142857, 1.71428571, 1.85714286, 2.        ])"
      ]
     },
     "execution_count": 16,
     "metadata": {},
     "output_type": "execute_result"
    }
   ],
   "source": [
    "# the third argument is the number values to generate\n",
    "np.linspace(0, 2, 15)"
   ]
  },
  {
   "cell_type": "markdown",
   "id": "f2d3438c-5464-47e1-b0f5-d1d4575672dc",
   "metadata": {},
   "source": [
    "### Array Operations"
   ]
  },
  {
   "cell_type": "code",
   "execution_count": 17,
   "id": "f416d3c3-18ef-421e-99d2-9fed99d8822a",
   "metadata": {
    "tags": []
   },
   "outputs": [
    {
     "name": "stdout",
     "output_type": "stream",
     "text": [
      "[41  1 83 72 83]\n"
     ]
    }
   ],
   "source": [
    "a = np.array([4, 5, 3, 8, 7])\n",
    "b = np.array([45, 6, 86, 80, 90])\n",
    "\n",
    "# minus\n",
    "c = b - a\n",
    "print(c)"
   ]
  },
  {
   "cell_type": "code",
   "execution_count": 18,
   "id": "e7013939-ff2b-4f2e-a1fc-9d4ddc0e7c75",
   "metadata": {
    "tags": []
   },
   "outputs": [
    {
     "name": "stdout",
     "output_type": "stream",
     "text": [
      "[180  30 258 640 630]\n"
     ]
    }
   ],
   "source": [
    "# multiplication\n",
    "d = a * b\n",
    "print(d)"
   ]
  },
  {
   "cell_type": "code",
   "execution_count": 19,
   "id": "de42d1ab-cc3c-4d9a-94f8-f63d974053ea",
   "metadata": {
    "tags": []
   },
   "outputs": [
    {
     "name": "stdout",
     "output_type": "stream",
     "text": [
      "[-17.77777778 -23.33333333 -20.55555556 -26.11111111 -17.77777778]\n"
     ]
    }
   ],
   "source": [
    "farenheit = np.array([0, -10, -5, -15, 0])\n",
    "# formula for conversion of farenheit to celcius is ((F -32) * 5/9 = C )\n",
    "celcius = (farenheit - 32) * (5/9)\n",
    "print(celcius)"
   ]
  },
  {
   "cell_type": "code",
   "execution_count": 20,
   "id": "d0393841-e36d-46af-986e-640e22a54b5e",
   "metadata": {
    "tags": []
   },
   "outputs": [
    {
     "data": {
      "text/plain": [
       "array([ True, False, False, False,  True])"
      ]
     },
     "execution_count": 20,
     "metadata": {},
     "output_type": "execute_result"
    }
   ],
   "source": [
    "# to get boolean array by checking celcius greater than -20\n",
    "celcius > -20"
   ]
  },
  {
   "cell_type": "code",
   "execution_count": 21,
   "id": "ea403a01-1a64-4f58-a797-d1183aa31a93",
   "metadata": {
    "tags": []
   },
   "outputs": [
    {
     "data": {
      "text/plain": [
       "array([False, False, False, False, False])"
      ]
     },
     "execution_count": 21,
     "metadata": {},
     "output_type": "execute_result"
    }
   ],
   "source": [
    "# use moddulus to check numbers in array\n",
    "celcius % 2 == 0"
   ]
  },
  {
   "cell_type": "code",
   "execution_count": 23,
   "id": "4f6d128a-9108-4b74-bed9-824dc24f49ee",
   "metadata": {
    "tags": []
   },
   "outputs": [
    {
     "name": "stdout",
     "output_type": "stream",
     "text": [
      "[[21 20]\n",
      " [16 36]]\n",
      "[[29 31]\n",
      " [74 76]]\n"
     ]
    },
    {
     "ename": "AttributeError",
     "evalue": "'numpy.ndarray' object has no attribute 'B'",
     "output_type": "error",
     "traceback": [
      "\u001b[0;31m---------------------------------------------------------------------------\u001b[0m",
      "\u001b[0;31mAttributeError\u001b[0m                            Traceback (most recent call last)",
      "Cell \u001b[0;32mIn[23], line 9\u001b[0m\n\u001b[1;32m      7\u001b[0m \u001b[38;5;66;03m# use can use also @ or .\u001b[39;00m\n\u001b[1;32m      8\u001b[0m \u001b[38;5;28mprint\u001b[39m(A\u001b[38;5;129m@B\u001b[39m)\n\u001b[0;32m----> 9\u001b[0m \u001b[38;5;28mprint\u001b[39m(\u001b[43mA\u001b[49m\u001b[43m \u001b[49m\u001b[38;5;241;43m.\u001b[39;49m\u001b[43m \u001b[49m\u001b[43mB\u001b[49m)\n",
      "\u001b[0;31mAttributeError\u001b[0m: 'numpy.ndarray' object has no attribute 'B'"
     ]
    }
   ],
   "source": [
    "# matrix manipulations\n",
    "A = np.array([[3, 4], [8, 9]])\n",
    "B = np.array([[7, 5], [2, 4]])\n",
    "\n",
    "print(A*B)\n",
    "\n",
    "# use can use also @ or .\n",
    "print(A@B)\n"
   ]
  },
  {
   "cell_type": "code",
   "execution_count": null,
   "id": "af8e5fb4-4679-4480-b099-6c09b2d5e54e",
   "metadata": {},
   "outputs": [],
   "source": []
  }
 ],
 "metadata": {
  "kernelspec": {
   "display_name": "Python 3 (ipykernel)",
   "language": "python",
   "name": "python3"
  },
  "language_info": {
   "codemirror_mode": {
    "name": "ipython",
    "version": 3
   },
   "file_extension": ".py",
   "mimetype": "text/x-python",
   "name": "python",
   "nbconvert_exporter": "python",
   "pygments_lexer": "ipython3",
   "version": "3.11.2"
  }
 },
 "nbformat": 4,
 "nbformat_minor": 5
}
